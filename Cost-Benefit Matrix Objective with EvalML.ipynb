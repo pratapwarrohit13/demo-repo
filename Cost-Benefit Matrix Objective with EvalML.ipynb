{
 "cells": [
  {
   "cell_type": "code",
   "execution_count": 1,
   "id": "every-dominican",
   "metadata": {},
   "outputs": [],
   "source": [
    "pip install evalml"
   ]
  },
  {
   "cell_type": "code",
   "execution_count": 30,
   "id": "interpreted-french",
   "metadata": {},
   "outputs": [],
   "source": [
    "import evalml\n",
    "from evalml.demos.churn import load_churn\n",
    "from evalml.preprocessing import split_data\n",
    "from evalml.objectives import CostBenefitMatrix\n",
    "from evalml import AutoMLSearch"
   ]
  },
  {
   "cell_type": "code",
   "execution_count": 24,
   "id": "acquired-prevention",
   "metadata": {},
   "outputs": [
    {
     "name": "stdout",
     "output_type": "stream",
     "text": [
      "             Number of Features\n",
      "Categorical                  16\n",
      "Numeric                       3\n",
      "\n",
      "Number of training examples: 7043\n",
      "Targets\n",
      "No     73.46%\n",
      "Yes    26.54%\n",
      "Name: Churn, dtype: object\n"
     ]
    }
   ],
   "source": [
    "features,target = load_churn()"
   ]
  },
  {
   "cell_type": "code",
   "execution_count": 25,
   "id": "sufficient-mattress",
   "metadata": {},
   "outputs": [],
   "source": [
    "features = features.set_types({'PaymentMethod':'Categorical', 'Contract': 'Categorical'})\n"
   ]
  },
  {
   "cell_type": "code",
   "execution_count": 26,
   "id": "continental-stability",
   "metadata": {},
   "outputs": [],
   "source": [
    "features_train,features_testc,target_train,target_test = split_data(features,target,problem_type='binary',test_size=0.3)"
   ]
  },
  {
   "cell_type": "code",
   "execution_count": 29,
   "id": "elementary-complaint",
   "metadata": {},
   "outputs": [],
   "source": [
    "cost_benefit_matrix = CostBenefitMatrix(true_positive=400,true_negative=0,false_positive=100,false_negative=200)"
   ]
  },
  {
   "cell_type": "code",
   "execution_count": 31,
   "id": "metric-niger",
   "metadata": {},
   "outputs": [
    {
     "name": "stdout",
     "output_type": "stream",
     "text": [
      "Using default limit of max_batches=1.\n",
      "\n",
      "Numerical binary classification target classes must be [0, 1], got [No, Yes] instead\n",
      "Generating pipelines to search over...\n",
      "*****************************\n",
      "* Beginning pipeline search *\n",
      "*****************************\n",
      "\n",
      "Optimizing for Log Loss Binary. \n",
      "Lower score is better.\n",
      "\n",
      "Searching up to 1 batches for a total of 9 pipelines. \n",
      "Allowed model families: decision_tree, lightgbm, random_forest, extra_trees, catboost, linear_model, xgboost\n",
      "\n"
     ]
    },
    {
     "data": {
      "application/vnd.jupyter.widget-view+json": {
       "model_id": "20ebbb6d2ecf4dc9b14b82914b3dc267",
       "version_major": 2,
       "version_minor": 0
      },
      "text/plain": [
       "FigureWidget({\n",
       "    'data': [{'mode': 'lines+markers',\n",
       "              'name': 'Best Score',\n",
       "              'type'…"
      ]
     },
     "metadata": {},
     "output_type": "display_data"
    },
    {
     "name": "stdout",
     "output_type": "stream",
     "text": [
      "Batch 1: (1/9) Mode Baseline Binary Classification P... Elapsed:00:00\n",
      "\tStarting cross validation\n",
      "\tFinished cross validation - mean Log Loss Binary: 9.164\n",
      "Batch 1: (2/9) Logistic Regression Classifier w/ Imp... Elapsed:00:00\n",
      "\tStarting cross validation\n",
      "\tFinished cross validation - mean Log Loss Binary: 0.423\n",
      "Batch 1: (3/9) Random Forest Classifier w/ Imputer +... Elapsed:00:10\n",
      "\tStarting cross validation\n",
      "\tFinished cross validation - mean Log Loss Binary: 0.426\n",
      "Batch 1: (4/9) XGBoost Classifier w/ Imputer + One H... Elapsed:00:16\n",
      "\tStarting cross validation\n",
      "\tFinished cross validation - mean Log Loss Binary: 0.445\n",
      "Batch 1: (5/9) CatBoost Classifier w/ Imputer           Elapsed:00:22\n",
      "\tStarting cross validation\n",
      "\tFinished cross validation - mean Log Loss Binary: 0.601\n",
      "Batch 1: (6/9) Elastic Net Classifier w/ Imputer + O... Elapsed:00:25\n",
      "\tStarting cross validation\n",
      "\tFinished cross validation - mean Log Loss Binary: 0.579\n",
      "Batch 1: (7/9) Extra Trees Classifier w/ Imputer + O... Elapsed:00:29\n",
      "\tStarting cross validation\n",
      "\tFinished cross validation - mean Log Loss Binary: 0.433\n",
      "Batch 1: (8/9) LightGBM Classifier w/ Imputer + One ... Elapsed:00:33\n",
      "\tStarting cross validation\n",
      "\tFinished cross validation - mean Log Loss Binary: 0.458\n",
      "Batch 1: (9/9) Decision Tree Classifier w/ Imputer +... Elapsed:00:37\n",
      "\tStarting cross validation\n",
      "\tFinished cross validation - mean Log Loss Binary: 0.706\n",
      "High coefficient of variation (cv >= 0.2) within cross validation scores. Decision Tree Classifier w/ Imputer + One Hot Encoder may not perform as estimated on unseen data.\n",
      "\n",
      "Search finished after 00:40            \n",
      "Best pipeline: Logistic Regression Classifier w/ Imputer + One Hot Encoder + Standard Scaler\n",
      "Best pipeline Log Loss Binary: 0.423421\n"
     ]
    }
   ],
   "source": [
    "automl = AutoMLSearch(X_train=features_train,y_train=target_train,problem_type='binary',objective='log loss binary')\n",
    "automl.search()"
   ]
  },
  {
   "cell_type": "code",
   "execution_count": null,
   "id": "presidential-detector",
   "metadata": {},
   "outputs": [],
   "source": []
  }
 ],
 "metadata": {
  "kernelspec": {
   "display_name": "Python 3",
   "language": "python",
   "name": "python3"
  },
  "language_info": {
   "codemirror_mode": {
    "name": "ipython",
    "version": 3
   },
   "file_extension": ".py",
   "mimetype": "text/x-python",
   "name": "python",
   "nbconvert_exporter": "python",
   "pygments_lexer": "ipython3",
   "version": "3.7.9"
  }
 },
 "nbformat": 4,
 "nbformat_minor": 5
}
