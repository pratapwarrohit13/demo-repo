{
 "cells": [
  {
   "cell_type": "markdown",
   "id": "dimensional-emission",
   "metadata": {},
   "source": [
    "### Standardization\n",
    "\n",
    "We try to bring all the variable or features to a similar scale.standadization means centering the variable to zero\n",
    "Z = (x-x_mean)/std"
   ]
  },
  {
   "cell_type": "code",
   "execution_count": 1,
   "id": "norwegian-black",
   "metadata": {},
   "outputs": [],
   "source": [
    "import pandas as pd"
   ]
  },
  {
   "cell_type": "code",
   "execution_count": 2,
   "id": "waiting-packaging",
   "metadata": {},
   "outputs": [
    {
     "data": {
      "text/html": [
       "<div>\n",
       "<style scoped>\n",
       "    .dataframe tbody tr th:only-of-type {\n",
       "        vertical-align: middle;\n",
       "    }\n",
       "\n",
       "    .dataframe tbody tr th {\n",
       "        vertical-align: top;\n",
       "    }\n",
       "\n",
       "    .dataframe thead th {\n",
       "        text-align: right;\n",
       "    }\n",
       "</style>\n",
       "<table border=\"1\" class=\"dataframe\">\n",
       "  <thead>\n",
       "    <tr style=\"text-align: right;\">\n",
       "      <th></th>\n",
       "      <th>pclass</th>\n",
       "      <th>survived</th>\n",
       "      <th>age</th>\n",
       "      <th>fare</th>\n",
       "    </tr>\n",
       "  </thead>\n",
       "  <tbody>\n",
       "    <tr>\n",
       "      <th>0</th>\n",
       "      <td>1.0</td>\n",
       "      <td>1.0</td>\n",
       "      <td>29.0000</td>\n",
       "      <td>211.3375</td>\n",
       "    </tr>\n",
       "    <tr>\n",
       "      <th>1</th>\n",
       "      <td>1.0</td>\n",
       "      <td>1.0</td>\n",
       "      <td>0.9167</td>\n",
       "      <td>151.5500</td>\n",
       "    </tr>\n",
       "    <tr>\n",
       "      <th>2</th>\n",
       "      <td>1.0</td>\n",
       "      <td>0.0</td>\n",
       "      <td>2.0000</td>\n",
       "      <td>151.5500</td>\n",
       "    </tr>\n",
       "    <tr>\n",
       "      <th>3</th>\n",
       "      <td>1.0</td>\n",
       "      <td>0.0</td>\n",
       "      <td>30.0000</td>\n",
       "      <td>151.5500</td>\n",
       "    </tr>\n",
       "    <tr>\n",
       "      <th>4</th>\n",
       "      <td>1.0</td>\n",
       "      <td>0.0</td>\n",
       "      <td>25.0000</td>\n",
       "      <td>151.5500</td>\n",
       "    </tr>\n",
       "  </tbody>\n",
       "</table>\n",
       "</div>"
      ],
      "text/plain": [
       "   pclass  survived      age      fare\n",
       "0     1.0       1.0  29.0000  211.3375\n",
       "1     1.0       1.0   0.9167  151.5500\n",
       "2     1.0       0.0   2.0000  151.5500\n",
       "3     1.0       0.0  30.0000  151.5500\n",
       "4     1.0       0.0  25.0000  151.5500"
      ]
     },
     "execution_count": 2,
     "metadata": {},
     "output_type": "execute_result"
    }
   ],
   "source": [
    "df = pd.read_csv('D://DS//titanic.csv',usecols=['pclass','age','fare','survived'])\n",
    "df.head()"
   ]
  },
  {
   "cell_type": "code",
   "execution_count": 3,
   "id": "comic-hunter",
   "metadata": {},
   "outputs": [],
   "source": [
    "df['age'].fillna(df.age.median(),inplace=True)"
   ]
  },
  {
   "cell_type": "code",
   "execution_count": 4,
   "id": "rocky-puppy",
   "metadata": {},
   "outputs": [
    {
     "data": {
      "text/plain": [
       "pclass      1\n",
       "survived    1\n",
       "age         0\n",
       "fare        2\n",
       "dtype: int64"
      ]
     },
     "execution_count": 4,
     "metadata": {},
     "output_type": "execute_result"
    }
   ],
   "source": [
    "df.isnull().sum()"
   ]
  },
  {
   "cell_type": "code",
   "execution_count": 5,
   "id": "developmental-october",
   "metadata": {},
   "outputs": [],
   "source": [
    "df = df.dropna()"
   ]
  },
  {
   "cell_type": "code",
   "execution_count": 6,
   "id": "regional-heaven",
   "metadata": {},
   "outputs": [
    {
     "data": {
      "text/plain": [
       "pclass      0\n",
       "survived    0\n",
       "age         0\n",
       "fare        0\n",
       "dtype: int64"
      ]
     },
     "execution_count": 6,
     "metadata": {},
     "output_type": "execute_result"
    }
   ],
   "source": [
    "df.isnull().sum()"
   ]
  },
  {
   "cell_type": "code",
   "execution_count": 7,
   "id": "brutal-plate",
   "metadata": {},
   "outputs": [],
   "source": [
    "#### Standerdization from sklearn library\n",
    "from sklearn.preprocessing import StandardScaler"
   ]
  },
  {
   "cell_type": "code",
   "execution_count": 8,
   "id": "working-position",
   "metadata": {},
   "outputs": [],
   "source": [
    "scaler = StandardScaler()\n",
    "#### fit vs fit_transform\n"
   ]
  },
  {
   "cell_type": "code",
   "execution_count": 9,
   "id": "western-orlando",
   "metadata": {},
   "outputs": [],
   "source": [
    "df_scaled = scaler.fit_transform(df)"
   ]
  },
  {
   "cell_type": "code",
   "execution_count": 12,
   "id": "empty-following",
   "metadata": {},
   "outputs": [
    {
     "data": {
      "text/html": [
       "<div>\n",
       "<style scoped>\n",
       "    .dataframe tbody tr th:only-of-type {\n",
       "        vertical-align: middle;\n",
       "    }\n",
       "\n",
       "    .dataframe tbody tr th {\n",
       "        vertical-align: top;\n",
       "    }\n",
       "\n",
       "    .dataframe thead th {\n",
       "        text-align: right;\n",
       "    }\n",
       "</style>\n",
       "<table border=\"1\" class=\"dataframe\">\n",
       "  <thead>\n",
       "    <tr style=\"text-align: right;\">\n",
       "      <th></th>\n",
       "      <th>0</th>\n",
       "      <th>1</th>\n",
       "      <th>2</th>\n",
       "      <th>3</th>\n",
       "    </tr>\n",
       "  </thead>\n",
       "  <tbody>\n",
       "    <tr>\n",
       "      <th>0</th>\n",
       "      <td>-1.545283</td>\n",
       "      <td>1.271220</td>\n",
       "      <td>-0.037237</td>\n",
       "      <td>3.441165</td>\n",
       "    </tr>\n",
       "    <tr>\n",
       "      <th>1</th>\n",
       "      <td>-1.545283</td>\n",
       "      <td>1.271220</td>\n",
       "      <td>-2.218170</td>\n",
       "      <td>2.285603</td>\n",
       "    </tr>\n",
       "    <tr>\n",
       "      <th>2</th>\n",
       "      <td>-1.545283</td>\n",
       "      <td>-0.786646</td>\n",
       "      <td>-2.134042</td>\n",
       "      <td>2.285603</td>\n",
       "    </tr>\n",
       "    <tr>\n",
       "      <th>3</th>\n",
       "      <td>-1.545283</td>\n",
       "      <td>-0.786646</td>\n",
       "      <td>0.040423</td>\n",
       "      <td>2.285603</td>\n",
       "    </tr>\n",
       "    <tr>\n",
       "      <th>4</th>\n",
       "      <td>-1.545283</td>\n",
       "      <td>-0.786646</td>\n",
       "      <td>-0.347874</td>\n",
       "      <td>2.285603</td>\n",
       "    </tr>\n",
       "    <tr>\n",
       "      <th>...</th>\n",
       "      <td>...</td>\n",
       "      <td>...</td>\n",
       "      <td>...</td>\n",
       "      <td>...</td>\n",
       "    </tr>\n",
       "    <tr>\n",
       "      <th>1303</th>\n",
       "      <td>0.842466</td>\n",
       "      <td>-0.786646</td>\n",
       "      <td>-1.163299</td>\n",
       "      <td>-0.364161</td>\n",
       "    </tr>\n",
       "    <tr>\n",
       "      <th>1304</th>\n",
       "      <td>0.842466</td>\n",
       "      <td>-0.786646</td>\n",
       "      <td>-0.114896</td>\n",
       "      <td>-0.364161</td>\n",
       "    </tr>\n",
       "    <tr>\n",
       "      <th>1305</th>\n",
       "      <td>0.842466</td>\n",
       "      <td>-0.786646</td>\n",
       "      <td>-0.231385</td>\n",
       "      <td>-0.503886</td>\n",
       "    </tr>\n",
       "    <tr>\n",
       "      <th>1306</th>\n",
       "      <td>0.842466</td>\n",
       "      <td>-0.786646</td>\n",
       "      <td>-0.192555</td>\n",
       "      <td>-0.503886</td>\n",
       "    </tr>\n",
       "    <tr>\n",
       "      <th>1307</th>\n",
       "      <td>0.842466</td>\n",
       "      <td>-0.786646</td>\n",
       "      <td>-0.037237</td>\n",
       "      <td>-0.491323</td>\n",
       "    </tr>\n",
       "  </tbody>\n",
       "</table>\n",
       "<p>1308 rows × 4 columns</p>\n",
       "</div>"
      ],
      "text/plain": [
       "             0         1         2         3\n",
       "0    -1.545283  1.271220 -0.037237  3.441165\n",
       "1    -1.545283  1.271220 -2.218170  2.285603\n",
       "2    -1.545283 -0.786646 -2.134042  2.285603\n",
       "3    -1.545283 -0.786646  0.040423  2.285603\n",
       "4    -1.545283 -0.786646 -0.347874  2.285603\n",
       "...        ...       ...       ...       ...\n",
       "1303  0.842466 -0.786646 -1.163299 -0.364161\n",
       "1304  0.842466 -0.786646 -0.114896 -0.364161\n",
       "1305  0.842466 -0.786646 -0.231385 -0.503886\n",
       "1306  0.842466 -0.786646 -0.192555 -0.503886\n",
       "1307  0.842466 -0.786646 -0.037237 -0.491323\n",
       "\n",
       "[1308 rows x 4 columns]"
      ]
     },
     "execution_count": 12,
     "metadata": {},
     "output_type": "execute_result"
    }
   ],
   "source": [
    "pd.DataFrame(df_scaled)"
   ]
  },
  {
   "cell_type": "code",
   "execution_count": 13,
   "id": "egyptian-clone",
   "metadata": {},
   "outputs": [],
   "source": [
    "import matplotlib.pyplot as plt"
   ]
  },
  {
   "cell_type": "code",
   "execution_count": 16,
   "id": "published-lesbian",
   "metadata": {},
   "outputs": [
    {
     "data": {
      "text/plain": [
       "(array([808.,   0.,   0.,   0.,   0.,   0.,   0.,   0.,   0.,   0.,   0.,\n",
       "          0.,   0.,   0.,   0.,   0.,   0.,   0.,   0., 500.]),\n",
       " array([-0.78664597, -0.68375268, -0.58085938, -0.47796609, -0.3750728 ,\n",
       "        -0.27217951, -0.16928621, -0.06639292,  0.03650037,  0.13939367,\n",
       "         0.24228696,  0.34518025,  0.44807354,  0.55096684,  0.65386013,\n",
       "         0.75675342,  0.85964672,  0.96254001,  1.0654333 ,  1.16832659,\n",
       "         1.27121989]),\n",
       " <BarContainer object of 20 artists>)"
      ]
     },
     "execution_count": 16,
     "metadata": {},
     "output_type": "execute_result"
    },
    {
     "data": {
      "image/png": "[encoded data removed]",
      "text/plain": [
       "<Figure size 432x288 with 1 Axes>"
      ]
     },
     "metadata": {
      "needs_background": "light"
     },
     "output_type": "display_data"
    }
   ],
   "source": [
    "plt.hist(df_scaled[:,1],bins=20)"
   ]
  },
  {
   "cell_type": "code",
   "execution_count": 17,
   "id": "legitimate-looking",
   "metadata": {},
   "outputs": [
    {
     "data": {
      "text/plain": [
       "(array([ 51.,  21.,  22.,  40., 114., 160., 391., 122.,  97.,  64.,  51.,\n",
       "         57.,  38.,  27.,  21.,  19.,   5.,   5.,   2.,   1.]),\n",
       " array([-2.27641471, -1.96642421, -1.65643371, -1.34644321, -1.03645271,\n",
       "        -0.72646222, -0.41647172, -0.10648122,  0.20350928,  0.51349978,\n",
       "         0.82349028,  1.13348078,  1.44347128,  1.75346178,  2.06345228,\n",
       "         2.37344278,  2.68343327,  2.99342377,  3.30341427,  3.61340477,\n",
       "         3.92339527]),\n",
       " <BarContainer object of 20 artists>)"
      ]
     },
     "execution_count": 17,
     "metadata": {},
     "output_type": "execute_result"
    },
    {
     "data": {
      "image/png": "[encoded data removed]",
      "text/plain": [
       "<Figure size 432x288 with 1 Axes>"
      ]
     },
     "metadata": {
      "needs_background": "light"
     },
     "output_type": "display_data"
    }
   ],
   "source": [
    "plt.hist(df_scaled[:,2],bins=20)"
   ]
  },
  {
   "cell_type": "code",
   "execution_count": 18,
   "id": "intellectual-chart",
   "metadata": {},
   "outputs": [
    {
     "data": {
      "text/plain": [
       "(array([827., 243., 102.,  52.,  17.,  25.,   4.,   0.,  18.,   3.,  13.,\n",
       "          0.,   0.,   0.,   0.,   0.,   0.,   0.,   0.,   4.]),\n",
       " array([-0.6435292 , -0.14841874,  0.34669172,  0.84180217,  1.33691263,\n",
       "         1.83202308,  2.32713354,  2.822244  ,  3.31735445,  3.81246491,\n",
       "         4.30757536,  4.80268582,  5.29779628,  5.79290673,  6.28801719,\n",
       "         6.78312765,  7.2782381 ,  7.77334856,  8.26845901,  8.76356947,\n",
       "         9.25867993]),\n",
       " <BarContainer object of 20 artists>)"
      ]
     },
     "execution_count": 18,
     "metadata": {},
     "output_type": "execute_result"
    },
    {
     "data": {
      "image/png": "[encoded data removed]",
      "text/plain": [
       "<Figure size 432x288 with 1 Axes>"
      ]
     },
     "metadata": {
      "needs_background": "light"
     },
     "output_type": "display_data"
    }
   ],
   "source": [
    "plt.hist(df_scaled[:,3],bins=20)"
   ]
  },
  {
   "cell_type": "markdown",
   "id": "deadly-forwarding",
   "metadata": {},
   "source": [
    "#### Min Max Scaling -- works well in Deep learning (CNN)\n",
    "Min Max scaling scales the value between 0 to 1\n",
    "X_scaled = (X-X.min) / (X.max-X.min)"
   ]
  },
  {
   "cell_type": "code",
   "execution_count": 20,
   "id": "abandoned-relation",
   "metadata": {},
   "outputs": [],
   "source": [
    "from sklearn.preprocessing import MinMaxScaler"
   ]
  },
  {
   "cell_type": "code",
   "execution_count": 22,
   "id": "wrong-enemy",
   "metadata": {},
   "outputs": [
    {
     "data": {
      "text/html": [
       "<div>\n",
       "<style scoped>\n",
       "    .dataframe tbody tr th:only-of-type {\n",
       "        vertical-align: middle;\n",
       "    }\n",
       "\n",
       "    .dataframe tbody tr th {\n",
       "        vertical-align: top;\n",
       "    }\n",
       "\n",
       "    .dataframe thead th {\n",
       "        text-align: right;\n",
       "    }\n",
       "</style>\n",
       "<table border=\"1\" class=\"dataframe\">\n",
       "  <thead>\n",
       "    <tr style=\"text-align: right;\">\n",
       "      <th></th>\n",
       "      <th>pclass</th>\n",
       "      <th>survived</th>\n",
       "      <th>age</th>\n",
       "      <th>fare</th>\n",
       "    </tr>\n",
       "  </thead>\n",
       "  <tbody>\n",
       "    <tr>\n",
       "      <th>0</th>\n",
       "      <td>0.0</td>\n",
       "      <td>1.0</td>\n",
       "      <td>0.361169</td>\n",
       "      <td>0.412503</td>\n",
       "    </tr>\n",
       "    <tr>\n",
       "      <th>1</th>\n",
       "      <td>0.0</td>\n",
       "      <td>1.0</td>\n",
       "      <td>0.009395</td>\n",
       "      <td>0.295806</td>\n",
       "    </tr>\n",
       "    <tr>\n",
       "      <th>2</th>\n",
       "      <td>0.0</td>\n",
       "      <td>0.0</td>\n",
       "      <td>0.022964</td>\n",
       "      <td>0.295806</td>\n",
       "    </tr>\n",
       "    <tr>\n",
       "      <th>3</th>\n",
       "      <td>0.0</td>\n",
       "      <td>0.0</td>\n",
       "      <td>0.373695</td>\n",
       "      <td>0.295806</td>\n",
       "    </tr>\n",
       "    <tr>\n",
       "      <th>4</th>\n",
       "      <td>0.0</td>\n",
       "      <td>0.0</td>\n",
       "      <td>0.311064</td>\n",
       "      <td>0.295806</td>\n",
       "    </tr>\n",
       "  </tbody>\n",
       "</table>\n",
       "</div>"
      ],
      "text/plain": [
       "   pclass  survived       age      fare\n",
       "0     0.0       1.0  0.361169  0.412503\n",
       "1     0.0       1.0  0.009395  0.295806\n",
       "2     0.0       0.0  0.022964  0.295806\n",
       "3     0.0       0.0  0.373695  0.295806\n",
       "4     0.0       0.0  0.311064  0.295806"
      ]
     },
     "execution_count": 22,
     "metadata": {},
     "output_type": "execute_result"
    }
   ],
   "source": [
    "min_max = MinMaxScaler()\n",
    "df_minmax = pd.DataFrame(min_max.fit_transform(df),columns=df.columns)\n",
    "df_minmax.head()"
   ]
  },
  {
   "cell_type": "code",
   "execution_count": 23,
   "id": "unusual-laundry",
   "metadata": {},
   "outputs": [
    {
     "data": {
      "text/plain": [
       "(array([323.,   0.,   0.,   0.,   0.,   0.,   0.,   0.,   0.,   0., 277.,\n",
       "          0.,   0.,   0.,   0.,   0.,   0.,   0.,   0., 708.]),\n",
       " array([0.  , 0.05, 0.1 , 0.15, 0.2 , 0.25, 0.3 , 0.35, 0.4 , 0.45, 0.5 ,\n",
       "        0.55, 0.6 , 0.65, 0.7 , 0.75, 0.8 , 0.85, 0.9 , 0.95, 1.  ]),\n",
       " <BarContainer object of 20 artists>)"
      ]
     },
     "execution_count": 23,
     "metadata": {},
     "output_type": "execute_result"
    },
    {
     "data": {
      "image/png": "[encoded data removed]",
      "text/plain": [
       "<Figure size 432x288 with 1 Axes>"
      ]
     },
     "metadata": {
      "needs_background": "light"
     },
     "output_type": "display_data"
    }
   ],
   "source": [
    "plt.hist(df_minmax['pclass'],bins=20)"
   ]
  },
  {
   "cell_type": "code",
   "execution_count": 24,
   "id": "likely-sugar",
   "metadata": {},
   "outputs": [
    {
     "data": {
      "text/plain": [
       "(array([ 51.,  21.,  22.,  40., 114., 160., 391., 122.,  97.,  64.,  51.,\n",
       "         57.,  38.,  27.,  21.,  19.,   5.,   5.,   2.,   1.]),\n",
       " array([0.  , 0.05, 0.1 , 0.15, 0.2 , 0.25, 0.3 , 0.35, 0.4 , 0.45, 0.5 ,\n",
       "        0.55, 0.6 , 0.65, 0.7 , 0.75, 0.8 , 0.85, 0.9 , 0.95, 1.  ]),\n",
       " <BarContainer object of 20 artists>)"
      ]
     },
     "execution_count": 24,
     "metadata": {},
     "output_type": "execute_result"
    },
    {
     "data": {
      "image/png": "[encoded data removed]",
      "text/plain": [
       "<Figure size 432x288 with 1 Axes>"
      ]
     },
     "metadata": {
      "needs_background": "light"
     },
     "output_type": "display_data"
    }
   ],
   "source": [
    "plt.hist(df_minmax['age'],bins=20)"
   ]
  },
  {
   "cell_type": "code",
   "execution_count": 26,
   "id": "inner-ottawa",
   "metadata": {},
   "outputs": [
    {
     "data": {
      "text/plain": [
       "(array([827., 243., 102.,  52.,  17.,  25.,   4.,   0.,  18.,   3.,  13.,\n",
       "          0.,   0.,   0.,   0.,   0.,   0.,   0.,   0.,   4.]),\n",
       " array([0.  , 0.05, 0.1 , 0.15, 0.2 , 0.25, 0.3 , 0.35, 0.4 , 0.45, 0.5 ,\n",
       "        0.55, 0.6 , 0.65, 0.7 , 0.75, 0.8 , 0.85, 0.9 , 0.95, 1.  ]),\n",
       " <BarContainer object of 20 artists>)"
      ]
     },
     "execution_count": 26,
     "metadata": {},
     "output_type": "execute_result"
    },
    {
     "data": {
      "image/png": "[encoded data removed]",
      "text/plain": [
       "<Figure size 432x288 with 1 Axes>"
      ]
     },
     "metadata": {
      "needs_background": "light"
     },
     "output_type": "display_data"
    }
   ],
   "source": [
    "plt.hist(df_minmax['fare'],bins=20)"
   ]
  },
  {
   "cell_type": "markdown",
   "id": "rubber-queensland",
   "metadata": {},
   "source": [
    "### Robust Scaler\n",
    "It is used to scale the feature to median and quantiles\n",
    "\n",
    "Scaling using median and quantiles consist of substracting the median to all\n",
    "the observations, and then dividing by the interquantile difference. The interquantile difference is the difference between the 75th and 25th quantile\n",
    "\n",
    "IQR = 75th quantile - 25th quantile\n",
    "\n",
    "S_sclaed = (X-X.median) / IQR"
   ]
  },
  {
   "cell_type": "code",
   "execution_count": 28,
   "id": "median-guidance",
   "metadata": {},
   "outputs": [],
   "source": [
    "from sklearn.preprocessing import RobustScaler\n",
    "scaler = RobustScaler()\n",
    "df_robust = pd.DataFrame(scaler.fit_transform(df),columns=df.columns)"
   ]
  },
  {
   "cell_type": "code",
   "execution_count": 29,
   "id": "endless-federal",
   "metadata": {},
   "outputs": [
    {
     "data": {
      "text/html": [
       "<div>\n",
       "<style scoped>\n",
       "    .dataframe tbody tr th:only-of-type {\n",
       "        vertical-align: middle;\n",
       "    }\n",
       "\n",
       "    .dataframe tbody tr th {\n",
       "        vertical-align: top;\n",
       "    }\n",
       "\n",
       "    .dataframe thead th {\n",
       "        text-align: right;\n",
       "    }\n",
       "</style>\n",
       "<table border=\"1\" class=\"dataframe\">\n",
       "  <thead>\n",
       "    <tr style=\"text-align: right;\">\n",
       "      <th></th>\n",
       "      <th>pclass</th>\n",
       "      <th>survived</th>\n",
       "      <th>age</th>\n",
       "      <th>fare</th>\n",
       "    </tr>\n",
       "  </thead>\n",
       "  <tbody>\n",
       "    <tr>\n",
       "      <th>0</th>\n",
       "      <td>-2.0</td>\n",
       "      <td>1.0</td>\n",
       "      <td>0.076923</td>\n",
       "      <td>8.421302</td>\n",
       "    </tr>\n",
       "    <tr>\n",
       "      <th>1</th>\n",
       "      <td>-2.0</td>\n",
       "      <td>1.0</td>\n",
       "      <td>-2.083331</td>\n",
       "      <td>5.864007</td>\n",
       "    </tr>\n",
       "    <tr>\n",
       "      <th>2</th>\n",
       "      <td>-2.0</td>\n",
       "      <td>0.0</td>\n",
       "      <td>-2.000000</td>\n",
       "      <td>5.864007</td>\n",
       "    </tr>\n",
       "    <tr>\n",
       "      <th>3</th>\n",
       "      <td>-2.0</td>\n",
       "      <td>0.0</td>\n",
       "      <td>0.153846</td>\n",
       "      <td>5.864007</td>\n",
       "    </tr>\n",
       "    <tr>\n",
       "      <th>4</th>\n",
       "      <td>-2.0</td>\n",
       "      <td>0.0</td>\n",
       "      <td>-0.230769</td>\n",
       "      <td>5.864007</td>\n",
       "    </tr>\n",
       "  </tbody>\n",
       "</table>\n",
       "</div>"
      ],
      "text/plain": [
       "   pclass  survived       age      fare\n",
       "0    -2.0       1.0  0.076923  8.421302\n",
       "1    -2.0       1.0 -2.083331  5.864007\n",
       "2    -2.0       0.0 -2.000000  5.864007\n",
       "3    -2.0       0.0  0.153846  5.864007\n",
       "4    -2.0       0.0 -0.230769  5.864007"
      ]
     },
     "execution_count": 29,
     "metadata": {},
     "output_type": "execute_result"
    }
   ],
   "source": [
    "df_robust.head()"
   ]
  },
  {
   "cell_type": "code",
   "execution_count": 30,
   "id": "voluntary-cinema",
   "metadata": {},
   "outputs": [
    {
     "data": {
      "text/plain": [
       "(array([323.,   0.,   0.,   0.,   0.,   0.,   0.,   0.,   0.,   0., 277.,\n",
       "          0.,   0.,   0.,   0.,   0.,   0.,   0.,   0., 708.]),\n",
       " array([-2. , -1.9, -1.8, -1.7, -1.6, -1.5, -1.4, -1.3, -1.2, -1.1, -1. ,\n",
       "        -0.9, -0.8, -0.7, -0.6, -0.5, -0.4, -0.3, -0.2, -0.1,  0. ]),\n",
       " <BarContainer object of 20 artists>)"
      ]
     },
     "execution_count": 30,
     "metadata": {},
     "output_type": "execute_result"
    },
    {
     "data": {
      "image/png": "[encoded data removed]",
      "text/plain": [
       "<Figure size 432x288 with 1 Axes>"
      ]
     },
     "metadata": {
      "needs_background": "light"
     },
     "output_type": "display_data"
    }
   ],
   "source": [
    "plt.hist(df_robust['pclass'],bins=20)"
   ]
  },
  {
   "cell_type": "code",
   "execution_count": 31,
   "id": "native-referral",
   "metadata": {},
   "outputs": [
    {
     "data": {
      "text/plain": [
       "(array([827., 243., 102.,  52.,  17.,  25.,   4.,   0.,  18.,   3.,  13.,\n",
       "          0.,   0.,   0.,   0.,   0.,   0.,   0.,   0.,   4.]),\n",
       " array([-0.61825041,  0.47744405,  1.57313852,  2.66883298,  3.76452744,\n",
       "         4.86022191,  5.95591637,  7.05161083,  8.1473053 ,  9.24299976,\n",
       "        10.33869422, 11.43438869, 12.53008315, 13.62577761, 14.72147208,\n",
       "        15.81716654, 16.912861  , 18.00855547, 19.10424993, 20.1999444 ,\n",
       "        21.29563886]),\n",
       " <BarContainer object of 20 artists>)"
      ]
     },
     "execution_count": 31,
     "metadata": {},
     "output_type": "execute_result"
    },
    {
     "data": {
      "image/png": "[encoded data removed]",
      "text/plain": [
       "<Figure size 432x288 with 1 Axes>"
      ]
     },
     "metadata": {
      "needs_background": "light"
     },
     "output_type": "display_data"
    }
   ],
   "source": [
    "plt.hist(df_robust['fare'],bins=20)"
   ]
  },
  {
   "cell_type": "markdown",
   "id": "referenced-browse",
   "metadata": {},
   "source": [
    "### Gussian Transformation :\n",
    "Some machine learning alogorithm line Linear & Logistic assume that the features are normally distributed\n",
    "- Accuracy\n",
    "- Performace\n",
    "\n",
    "a. Logarithmic Tranformation\n",
    "b. Reciprocal transformation\n",
    "c. Square root transformation\n",
    "d. Expotential transformation\n",
    "e. Box Cox Transformation"
   ]
  },
  {
   "cell_type": "code",
   "execution_count": 32,
   "id": "cognitive-marine",
   "metadata": {},
   "outputs": [
    {
     "data": {
      "text/html": [
       "<div>\n",
       "<style scoped>\n",
       "    .dataframe tbody tr th:only-of-type {\n",
       "        vertical-align: middle;\n",
       "    }\n",
       "\n",
       "    .dataframe tbody tr th {\n",
       "        vertical-align: top;\n",
       "    }\n",
       "\n",
       "    .dataframe thead th {\n",
       "        text-align: right;\n",
       "    }\n",
       "</style>\n",
       "<table border=\"1\" class=\"dataframe\">\n",
       "  <thead>\n",
       "    <tr style=\"text-align: right;\">\n",
       "      <th></th>\n",
       "      <th>survived</th>\n",
       "      <th>age</th>\n",
       "      <th>fare</th>\n",
       "    </tr>\n",
       "  </thead>\n",
       "  <tbody>\n",
       "    <tr>\n",
       "      <th>0</th>\n",
       "      <td>1.0</td>\n",
       "      <td>29.0000</td>\n",
       "      <td>211.3375</td>\n",
       "    </tr>\n",
       "    <tr>\n",
       "      <th>1</th>\n",
       "      <td>1.0</td>\n",
       "      <td>0.9167</td>\n",
       "      <td>151.5500</td>\n",
       "    </tr>\n",
       "    <tr>\n",
       "      <th>2</th>\n",
       "      <td>0.0</td>\n",
       "      <td>2.0000</td>\n",
       "      <td>151.5500</td>\n",
       "    </tr>\n",
       "    <tr>\n",
       "      <th>3</th>\n",
       "      <td>0.0</td>\n",
       "      <td>30.0000</td>\n",
       "      <td>151.5500</td>\n",
       "    </tr>\n",
       "    <tr>\n",
       "      <th>4</th>\n",
       "      <td>0.0</td>\n",
       "      <td>25.0000</td>\n",
       "      <td>151.5500</td>\n",
       "    </tr>\n",
       "  </tbody>\n",
       "</table>\n",
       "</div>"
      ],
      "text/plain": [
       "   survived      age      fare\n",
       "0       1.0  29.0000  211.3375\n",
       "1       1.0   0.9167  151.5500\n",
       "2       0.0   2.0000  151.5500\n",
       "3       0.0  30.0000  151.5500\n",
       "4       0.0  25.0000  151.5500"
      ]
     },
     "execution_count": 32,
     "metadata": {},
     "output_type": "execute_result"
    }
   ],
   "source": [
    "df = pd.read_csv('D://DS//titanic.csv',usecols=['survived','age','fare'])\n",
    "df.head()"
   ]
  },
  {
   "cell_type": "code",
   "execution_count": 33,
   "id": "northern-violation",
   "metadata": {},
   "outputs": [],
   "source": [
    "### fill nan\n",
    "df['age'] = df['age'].fillna(df.age.median)"
   ]
  },
  {
   "cell_type": "code",
   "execution_count": 55,
   "id": "satisfied-yield",
   "metadata": {},
   "outputs": [],
   "source": [
    "df['age'] = pd.to_numeric(df.age, errors='coerce')"
   ]
  },
  {
   "cell_type": "code",
   "execution_count": 56,
   "id": "crazy-dryer",
   "metadata": {},
   "outputs": [
    {
     "name": "stdout",
     "output_type": "stream",
     "text": [
      "<class 'pandas.core.frame.DataFrame'>\n",
      "Int64Index: 1308 entries, 0 to 1308\n",
      "Data columns (total 3 columns):\n",
      " #   Column    Non-Null Count  Dtype  \n",
      "---  ------    --------------  -----  \n",
      " 0   survived  1308 non-null   float64\n",
      " 1   age       1308 non-null   object \n",
      " 2   fare      1308 non-null   float64\n",
      "dtypes: float64(2), object(1)\n",
      "memory usage: 40.9+ KB\n"
     ]
    }
   ],
   "source": [
    "df.info()"
   ]
  },
  {
   "cell_type": "code",
   "execution_count": 34,
   "id": "engaging-section",
   "metadata": {},
   "outputs": [
    {
     "data": {
      "text/plain": [
       "survived    1\n",
       "age         0\n",
       "fare        2\n",
       "dtype: int64"
      ]
     },
     "execution_count": 34,
     "metadata": {},
     "output_type": "execute_result"
    }
   ],
   "source": [
    "df.isnull().sum()"
   ]
  },
  {
   "cell_type": "code",
   "execution_count": 35,
   "id": "disturbed-myanmar",
   "metadata": {},
   "outputs": [],
   "source": [
    "df = df.dropna()"
   ]
  },
  {
   "cell_type": "code",
   "execution_count": 36,
   "id": "geological-corruption",
   "metadata": {},
   "outputs": [
    {
     "data": {
      "text/plain": [
       "survived    0\n",
       "age         0\n",
       "fare        0\n",
       "dtype: int64"
      ]
     },
     "execution_count": 36,
     "metadata": {},
     "output_type": "execute_result"
    }
   ],
   "source": [
    "df.isnull().sum()"
   ]
  },
  {
   "cell_type": "code",
   "execution_count": 38,
   "id": "naval-reading",
   "metadata": {},
   "outputs": [],
   "source": [
    "import scipy.stats as stat\n",
    "import pylab"
   ]
  },
  {
   "cell_type": "code",
   "execution_count": 41,
   "id": "juvenile-pixel",
   "metadata": {},
   "outputs": [],
   "source": [
    "#### if you want to check wheather feature is guassian or normal distribution\n",
    "## Q-Q plot\n",
    "\n",
    "def plot_data(df,feature):\n",
    "    plt.figure(figsize=(10,6))\n",
    "    plt.subplot(1,2,1)\n",
    "    df[feature].hist()\n",
    "    plt.subplot(1,2,2)\n",
    "    stat.probplot(df[feature],dist='norm',plot=pylab)\n",
    "    plt.show()"
   ]
  },
  {
   "cell_type": "code",
   "execution_count": 50,
   "id": "burning-collins",
   "metadata": {},
   "outputs": [
    {
     "data": {
      "image/png": "[encoded data removed]",
      "text/plain": [
       "<Figure size 720x432 with 2 Axes>"
      ]
     },
     "metadata": {
      "needs_background": "light"
     },
     "output_type": "display_data"
    }
   ],
   "source": [
    "plot_data(df,'fare')"
   ]
  },
  {
   "cell_type": "markdown",
   "id": "planned-victoria",
   "metadata": {},
   "source": [
    "### Logrithmic Transformation"
   ]
  },
  {
   "cell_type": "code",
   "execution_count": 57,
   "id": "tough-commissioner",
   "metadata": {},
   "outputs": [],
   "source": [
    "import numpy as np"
   ]
  },
  {
   "cell_type": "code",
   "execution_count": 59,
   "id": "equal-vancouver",
   "metadata": {},
   "outputs": [],
   "source": [
    "df['fare_log'] = np.log(df['fare'])"
   ]
  },
  {
   "cell_type": "code",
   "execution_count": 65,
   "id": "color-instrument",
   "metadata": {},
   "outputs": [
    {
     "data": {
      "text/plain": [
       "<AxesSubplot:>"
      ]
     },
     "execution_count": 65,
     "metadata": {},
     "output_type": "execute_result"
    },
    {
     "data": {
      "image/png": "[encoded data removed]",
      "text/plain": [
       "<Figure size 432x288 with 1 Axes>"
      ]
     },
     "metadata": {
      "needs_background": "light"
     },
     "output_type": "display_data"
    }
   ],
   "source": [
    "df['fare_log'].plot()"
   ]
  },
  {
   "cell_type": "markdown",
   "id": "falling-flush",
   "metadata": {},
   "source": [
    "### Reciprocal Transformation"
   ]
  },
  {
   "cell_type": "code",
   "execution_count": 69,
   "id": "indonesian-democrat",
   "metadata": {},
   "outputs": [],
   "source": [
    "df['fare_reciprocal'] = 1/df['fare']"
   ]
  },
  {
   "cell_type": "markdown",
   "id": "engaging-shoot",
   "metadata": {},
   "source": [
    "#### Square Root Transformation"
   ]
  },
  {
   "cell_type": "code",
   "execution_count": 72,
   "id": "opening-campaign",
   "metadata": {},
   "outputs": [],
   "source": [
    "df['fare_square'] = df.fare ** (1/2)"
   ]
  },
  {
   "cell_type": "code",
   "execution_count": 73,
   "id": "extra-crime",
   "metadata": {},
   "outputs": [
    {
     "data": {
      "image/png": "[encoded data removed]",
      "text/plain": [
       "<Figure size 720x432 with 2 Axes>"
      ]
     },
     "metadata": {
      "needs_background": "light"
     },
     "output_type": "display_data"
    }
   ],
   "source": [
    "plot_data(df,'fare_square')"
   ]
  },
  {
   "cell_type": "markdown",
   "id": "coordinated-granny",
   "metadata": {},
   "source": [
    "### Expotential Transformation"
   ]
  },
  {
   "cell_type": "code",
   "execution_count": 74,
   "id": "shared-winner",
   "metadata": {},
   "outputs": [],
   "source": [
    "df['fare_expotential'] = df.fare ** (1/1.2)"
   ]
  },
  {
   "cell_type": "code",
   "execution_count": 75,
   "id": "altered-egyptian",
   "metadata": {},
   "outputs": [
    {
     "data": {
      "image/png": "[encoded data removed]",
      "text/plain": [
       "<Figure size 720x432 with 2 Axes>"
      ]
     },
     "metadata": {
      "needs_background": "light"
     },
     "output_type": "display_data"
    }
   ],
   "source": [
    "plot_data(df,'fare_expotential')"
   ]
  },
  {
   "cell_type": "markdown",
   "id": "enhanced-conflict",
   "metadata": {},
   "source": [
    "### Box Cox Transformation"
   ]
  },
  {
   "cell_type": "code",
   "execution_count": 79,
   "id": "talented-replacement",
   "metadata": {},
   "outputs": [
    {
     "ename": "ValueError",
     "evalue": "Data must be positive.",
     "output_type": "error",
     "traceback": [
      "\u001b[1;31m---------------------------------------------------------------------------\u001b[0m",
      "\u001b[1;31mValueError\u001b[0m                                Traceback (most recent call last)",
      "\u001b[1;32m<ipython-input-79-1ca3024f7627>\u001b[0m in \u001b[0;36m<module>\u001b[1;34m\u001b[0m\n\u001b[1;32m----> 1\u001b[1;33m \u001b[0mdf\u001b[0m\u001b[1;33m[\u001b[0m\u001b[1;34m'fare_boxcox'\u001b[0m\u001b[1;33m]\u001b[0m\u001b[1;33m,\u001b[0m\u001b[0mparameters\u001b[0m \u001b[1;33m=\u001b[0m \u001b[0mstat\u001b[0m\u001b[1;33m.\u001b[0m\u001b[0mboxcox\u001b[0m\u001b[1;33m(\u001b[0m\u001b[0mdf\u001b[0m\u001b[1;33m[\u001b[0m\u001b[1;34m'fare'\u001b[0m\u001b[1;33m]\u001b[0m\u001b[1;33m)\u001b[0m\u001b[1;33m\u001b[0m\u001b[1;33m\u001b[0m\u001b[0m\n\u001b[0m",
      "\u001b[1;32m~\\Anaconda3\\lib\\site-packages\\scipy\\stats\\morestats.py\u001b[0m in \u001b[0;36mboxcox\u001b[1;34m(x, lmbda, alpha)\u001b[0m\n\u001b[0;32m   1041\u001b[0m \u001b[1;33m\u001b[0m\u001b[0m\n\u001b[0;32m   1042\u001b[0m     \u001b[1;32mif\u001b[0m \u001b[0many\u001b[0m\u001b[1;33m(\u001b[0m\u001b[0mx\u001b[0m \u001b[1;33m<=\u001b[0m \u001b[1;36m0\u001b[0m\u001b[1;33m)\u001b[0m\u001b[1;33m:\u001b[0m\u001b[1;33m\u001b[0m\u001b[1;33m\u001b[0m\u001b[0m\n\u001b[1;32m-> 1043\u001b[1;33m         \u001b[1;32mraise\u001b[0m \u001b[0mValueError\u001b[0m\u001b[1;33m(\u001b[0m\u001b[1;34m\"Data must be positive.\"\u001b[0m\u001b[1;33m)\u001b[0m\u001b[1;33m\u001b[0m\u001b[1;33m\u001b[0m\u001b[0m\n\u001b[0m\u001b[0;32m   1044\u001b[0m \u001b[1;33m\u001b[0m\u001b[0m\n\u001b[0;32m   1045\u001b[0m     \u001b[1;32mif\u001b[0m \u001b[0mlmbda\u001b[0m \u001b[1;32mis\u001b[0m \u001b[1;32mnot\u001b[0m \u001b[1;32mNone\u001b[0m\u001b[1;33m:\u001b[0m  \u001b[1;31m# single transformation\u001b[0m\u001b[1;33m\u001b[0m\u001b[1;33m\u001b[0m\u001b[0m\n",
      "\u001b[1;31mValueError\u001b[0m: Data must be positive."
     ]
    }
   ],
   "source": [
    "df['fare_boxcox'],parameters = stat.boxcox(df['fare'])"
   ]
  },
  {
   "cell_type": "code",
   "execution_count": 82,
   "id": "rapid-casino",
   "metadata": {},
   "outputs": [
    {
     "data": {
      "text/plain": [
       "array([211.3375, 151.55  ,  26.55  ,  77.9583,   0.    ,  51.4792,\n",
       "        49.5042, 227.525 ,  69.3   ,  78.85  ,  30.    ,  25.925 ,\n",
       "       247.5208,  76.2917,  75.2417,  52.5542, 221.7792,  26.    ,\n",
       "        91.0792, 135.6333,  35.5   ,  31.    , 164.8667, 262.375 ,\n",
       "        55.    ,  30.5   ,  50.4958,  39.6   ,  27.7208, 134.5   ,\n",
       "        26.2875,  27.4458, 512.3292,   5.    ,  47.1   , 120.    ,\n",
       "        61.175 ,  53.1   ,  86.5   ,  29.7   , 136.7792,  52.    ,\n",
       "        25.5875,  83.1583,  25.7   ,  71.    ,  71.2833,  57.    ,\n",
       "        81.8583, 106.425 ,  56.9292,  78.2667,  31.6792,  31.6833,\n",
       "       110.8833,  26.3875,  27.75  , 263.    , 133.65  ,  49.5   ,\n",
       "        79.2   ,  38.5   , 211.5   ,  59.4   ,  89.1042,  34.6542,\n",
       "        28.5   , 153.4625,  63.3583,  55.4417,  76.7292,  42.4   ,\n",
       "        83.475 ,  93.5   ,  42.5   ,  51.8625,  50.    ,  57.9792,\n",
       "        90.    ,  30.6958,  80.    ,  28.7125,  25.9292,  39.4   ,\n",
       "        45.5   , 146.5208,  82.1708,  57.75  , 113.275 ,  26.2833,\n",
       "       108.9   ,  25.7417,  61.9792,  66.6   ,  40.125 ,  55.9   ,\n",
       "        60.    ,  82.2667,  32.3208,  79.65  ,  28.5375,  33.5   ,\n",
       "        34.0208,  75.25  ,  77.2875,  61.3792,  35.    ,  24.    ,\n",
       "        13.    ,  11.5   ,  10.5   ,  12.525 ,  39.    ,  29.    ,\n",
       "        21.    ,  13.5   ,  26.25  ,  36.75  ,  73.5   ,  31.5   ,\n",
       "        23.    ,  32.5   ,  13.8583,  14.5   ,  33.    ,  65.    ,\n",
       "        16.    ,  12.275 ,  27.    ,  15.    ,  13.7917,  12.35  ,\n",
       "        10.7083,  41.5792,  12.    ,  12.875 ,  15.0458,  37.0042,\n",
       "        15.5792,  19.5   ,  14.    ,   9.6875,  30.0708,  13.8625,\n",
       "        15.05  ,  12.7375,  15.0333,  18.75  ,  12.65  ,  15.75  ,\n",
       "         7.55  ,  20.25  ,   7.65  ,   7.925 ,   7.2292,   7.25  ,\n",
       "         8.05  ,   9.475 ,   9.35  ,  18.7875,   7.8875,   7.05  ,\n",
       "         8.3   ,  22.525 ,   7.8542,  31.275 ,   7.775 ,   7.7958,\n",
       "         7.8958,  17.8   ,  31.3875,   7.225 ,  14.4583,  15.85  ,\n",
       "        19.2583,  14.4542,   7.8792,   4.0125,  56.4958,   7.75  ,\n",
       "        15.2458,  15.5   ,  16.1   ,   7.725 ,   7.0458,   7.2833,\n",
       "         7.8208,   6.75  ,   8.6625,   7.7333,   7.4958,   7.6292,\n",
       "        15.9   ,   8.1583,  10.5167,  10.1708,   6.95  ,  14.4   ,\n",
       "        24.15  ,  17.4   ,   9.5   ,  20.575 ,  12.475 ,  13.9   ,\n",
       "         6.975 ,  15.1   ,  34.375 ,   7.7417,  20.525 ,   7.85  ,\n",
       "        46.9   ,   8.3625,   9.8458,   8.85  ,  19.9667,  14.1083,\n",
       "         6.8583,   8.9625,  12.2875,   6.45  ,   7.0542,   8.1125,\n",
       "         6.4958,   8.6542,  11.1333,  23.45  ,   9.825 ,   7.125 ,\n",
       "         8.4333,   7.5208,  13.4167,   7.8292,   7.7375,  22.025 ,\n",
       "        12.1833,   9.5875,   9.4833,  25.4667,   6.4375,  15.55  ,\n",
       "         7.5792,   7.1417,  23.25  ,   7.7875,   8.0292,   8.4583,\n",
       "        15.7417,  11.2417,   7.8   ,   6.2375,   9.225 ,   3.1708,\n",
       "         8.4042,   7.3125,   9.2167,   8.6833,  21.075 ,  39.6875,\n",
       "         8.7125,  13.775 ,   7.    ,  22.3583,   8.1375,  29.125 ,\n",
       "         7.7208,  20.2125,   7.7292,   7.575 ,  69.55  ,   9.325 ,\n",
       "        21.6792,  16.7   ,   7.7792,  27.9   ,   9.8375,  10.4625,\n",
       "         8.5167,   9.8417,   9.    ,  18.    ,   7.875 ])"
      ]
     },
     "execution_count": 82,
     "metadata": {},
     "output_type": "execute_result"
    }
   ],
   "source": [
    "df['fare'].unique()"
   ]
  },
  {
   "cell_type": "code",
   "execution_count": null,
   "id": "breeding-barbados",
   "metadata": {},
   "outputs": [],
   "source": []
  }
 ],
 "metadata": {
  "kernelspec": {
   "display_name": "Python 3",
   "language": "python",
   "name": "python3"
  },
  "language_info": {
   "codemirror_mode": {
    "name": "ipython",
    "version": 3
   },
   "file_extension": ".py",
   "mimetype": "text/x-python",
   "name": "python",
   "nbconvert_exporter": "python",
   "pygments_lexer": "ipython3",
   "version": "3.7.9"
  }
 },
 "nbformat": 4,
 "nbformat_minor": 5
}
